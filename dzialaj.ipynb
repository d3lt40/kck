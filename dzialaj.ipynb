{
 "cells": [
  {
   "cell_type": "markdown",
   "metadata": {},
   "source": [
    "# Tytuł\n"
   ]
  },
  {
   "cell_type": "markdown",
   "metadata": {},
   "source": [
    "## Podtytuł"
   ]
  },
  {
   "cell_type": "markdown",
   "metadata": {},
   "source": [
    "co tu sie dzieje"
   ]
  },
  {
   "cell_type": "code",
   "execution_count": 6,
   "metadata": {},
   "outputs": [
    {
     "name": "stdout",
     "output_type": "stream",
     "text": [
      "0.23.4\n"
     ]
    }
   ],
   "source": [
    "import pandas as pd\n",
    "print(pd.__version__)\n"
   ]
  },
  {
   "cell_type": "code",
   "execution_count": 52,
   "metadata": {},
   "outputs": [
    {
     "data": {
      "text/html": [
       "<div>\n",
       "<style scoped>\n",
       "    .dataframe tbody tr th:only-of-type {\n",
       "        vertical-align: middle;\n",
       "    }\n",
       "\n",
       "    .dataframe tbody tr th {\n",
       "        vertical-align: top;\n",
       "    }\n",
       "\n",
       "    .dataframe thead th {\n",
       "        text-align: right;\n",
       "    }\n",
       "</style>\n",
       "<table border=\"1\" class=\"dataframe\">\n",
       "  <thead>\n",
       "    <tr style=\"text-align: right;\">\n",
       "      <th></th>\n",
       "      <th>bachelor_s_degree_or_higher</th>\n",
       "      <th>geography</th>\n",
       "      <th>geography_type</th>\n",
       "      <th>high_school_graduate</th>\n",
       "      <th>less_than_high_school_graduate</th>\n",
       "      <th>location_1</th>\n",
       "      <th>some_college_or_associate_s_degree</th>\n",
       "      <th>year</th>\n",
       "    </tr>\n",
       "  </thead>\n",
       "  <tbody>\n",
       "    <tr>\n",
       "      <th>0</th>\n",
       "      <td>3.5</td>\n",
       "      <td>Atherton</td>\n",
       "      <td>Town</td>\n",
       "      <td>12.3</td>\n",
       "      <td>13.6</td>\n",
       "      <td>{'latitude': '37.458611', 'needs_recoding': Fa...</td>\n",
       "      <td>2.7</td>\n",
       "      <td>2014-01-01T00:00:00</td>\n",
       "    </tr>\n",
       "    <tr>\n",
       "      <th>1</th>\n",
       "      <td>3.6</td>\n",
       "      <td>Belmont</td>\n",
       "      <td>City</td>\n",
       "      <td>5.9</td>\n",
       "      <td>20.9</td>\n",
       "      <td>{'latitude': '37.518056', 'needs_recoding': Fa...</td>\n",
       "      <td>5.0</td>\n",
       "      <td>2014-01-01T00:00:00</td>\n",
       "    </tr>\n",
       "    <tr>\n",
       "      <th>2</th>\n",
       "      <td>3.3</td>\n",
       "      <td>Brisbane</td>\n",
       "      <td>City</td>\n",
       "      <td>1.7</td>\n",
       "      <td>0.0</td>\n",
       "      <td>{'latitude': '37.680833', 'needs_recoding': Fa...</td>\n",
       "      <td>11.5</td>\n",
       "      <td>2014-01-01T00:00:00</td>\n",
       "    </tr>\n",
       "    <tr>\n",
       "      <th>3</th>\n",
       "      <td>2.4</td>\n",
       "      <td>Broadmoor</td>\n",
       "      <td>CDP</td>\n",
       "      <td>8.0</td>\n",
       "      <td>21.2</td>\n",
       "      <td>{'latitude': '37.6925', 'needs_recoding': Fals...</td>\n",
       "      <td>3.0</td>\n",
       "      <td>2014-01-01T00:00:00</td>\n",
       "    </tr>\n",
       "    <tr>\n",
       "      <th>4</th>\n",
       "      <td>3.7</td>\n",
       "      <td>Burlingame</td>\n",
       "      <td>City</td>\n",
       "      <td>8.3</td>\n",
       "      <td>20.1</td>\n",
       "      <td>{'latitude': '37.583333', 'needs_recoding': Fa...</td>\n",
       "      <td>7.4</td>\n",
       "      <td>2014-01-01T00:00:00</td>\n",
       "    </tr>\n",
       "  </tbody>\n",
       "</table>\n",
       "</div>"
      ],
      "text/plain": [
       "   bachelor_s_degree_or_higher   geography geography_type  \\\n",
       "0                          3.5    Atherton           Town   \n",
       "1                          3.6     Belmont           City   \n",
       "2                          3.3    Brisbane           City   \n",
       "3                          2.4   Broadmoor            CDP   \n",
       "4                          3.7  Burlingame           City   \n",
       "\n",
       "   high_school_graduate  less_than_high_school_graduate  \\\n",
       "0                  12.3                            13.6   \n",
       "1                   5.9                            20.9   \n",
       "2                   1.7                             0.0   \n",
       "3                   8.0                            21.2   \n",
       "4                   8.3                            20.1   \n",
       "\n",
       "                                          location_1  \\\n",
       "0  {'latitude': '37.458611', 'needs_recoding': Fa...   \n",
       "1  {'latitude': '37.518056', 'needs_recoding': Fa...   \n",
       "2  {'latitude': '37.680833', 'needs_recoding': Fa...   \n",
       "3  {'latitude': '37.6925', 'needs_recoding': Fals...   \n",
       "4  {'latitude': '37.583333', 'needs_recoding': Fa...   \n",
       "\n",
       "   some_college_or_associate_s_degree                 year  \n",
       "0                                 2.7  2014-01-01T00:00:00  \n",
       "1                                 5.0  2014-01-01T00:00:00  \n",
       "2                                11.5  2014-01-01T00:00:00  \n",
       "3                                 3.0  2014-01-01T00:00:00  \n",
       "4                                 7.4  2014-01-01T00:00:00  "
      ]
     },
     "execution_count": 52,
     "metadata": {},
     "output_type": "execute_result"
    }
   ],
   "source": [
    "df = pd.read_json(\"https://data.smcgov.org/resource/mb6a-xn89.json\")\n",
    "df.head()"
   ]
  },
  {
   "cell_type": "code",
   "execution_count": 13,
   "metadata": {},
   "outputs": [
    {
     "name": "stdout",
     "output_type": "stream",
     "text": [
      "(32, 8)\n"
     ]
    }
   ],
   "source": [
    "print(df.shape)\n"
   ]
  },
  {
   "cell_type": "code",
   "execution_count": 14,
   "metadata": {},
   "outputs": [
    {
     "data": {
      "text/html": [
       "<div>\n",
       "<style scoped>\n",
       "    .dataframe tbody tr th:only-of-type {\n",
       "        vertical-align: middle;\n",
       "    }\n",
       "\n",
       "    .dataframe tbody tr th {\n",
       "        vertical-align: top;\n",
       "    }\n",
       "\n",
       "    .dataframe thead th {\n",
       "        text-align: right;\n",
       "    }\n",
       "</style>\n",
       "<table border=\"1\" class=\"dataframe\">\n",
       "  <thead>\n",
       "    <tr style=\"text-align: right;\">\n",
       "      <th></th>\n",
       "      <th>bachelor_s_degree_or_higher</th>\n",
       "      <th>high_school_graduate</th>\n",
       "      <th>less_than_high_school_graduate</th>\n",
       "      <th>some_college_or_associate_s_degree</th>\n",
       "    </tr>\n",
       "  </thead>\n",
       "  <tbody>\n",
       "    <tr>\n",
       "      <th>count</th>\n",
       "      <td>32.000000</td>\n",
       "      <td>32.000000</td>\n",
       "      <td>32.00000</td>\n",
       "      <td>32.000000</td>\n",
       "    </tr>\n",
       "    <tr>\n",
       "      <th>mean</th>\n",
       "      <td>2.856250</td>\n",
       "      <td>6.462500</td>\n",
       "      <td>17.80000</td>\n",
       "      <td>5.946875</td>\n",
       "    </tr>\n",
       "    <tr>\n",
       "      <th>std</th>\n",
       "      <td>1.873919</td>\n",
       "      <td>4.693905</td>\n",
       "      <td>19.29944</td>\n",
       "      <td>4.728430</td>\n",
       "    </tr>\n",
       "    <tr>\n",
       "      <th>min</th>\n",
       "      <td>0.000000</td>\n",
       "      <td>0.000000</td>\n",
       "      <td>0.00000</td>\n",
       "      <td>0.000000</td>\n",
       "    </tr>\n",
       "    <tr>\n",
       "      <th>25%</th>\n",
       "      <td>2.100000</td>\n",
       "      <td>1.925000</td>\n",
       "      <td>6.82500</td>\n",
       "      <td>2.525000</td>\n",
       "    </tr>\n",
       "    <tr>\n",
       "      <th>50%</th>\n",
       "      <td>3.000000</td>\n",
       "      <td>7.750000</td>\n",
       "      <td>13.90000</td>\n",
       "      <td>5.500000</td>\n",
       "    </tr>\n",
       "    <tr>\n",
       "      <th>75%</th>\n",
       "      <td>3.600000</td>\n",
       "      <td>9.450000</td>\n",
       "      <td>20.97500</td>\n",
       "      <td>8.800000</td>\n",
       "    </tr>\n",
       "    <tr>\n",
       "      <th>max</th>\n",
       "      <td>9.100000</td>\n",
       "      <td>16.400000</td>\n",
       "      <td>100.00000</td>\n",
       "      <td>18.500000</td>\n",
       "    </tr>\n",
       "  </tbody>\n",
       "</table>\n",
       "</div>"
      ],
      "text/plain": [
       "       bachelor_s_degree_or_higher  high_school_graduate  \\\n",
       "count                    32.000000             32.000000   \n",
       "mean                      2.856250              6.462500   \n",
       "std                       1.873919              4.693905   \n",
       "min                       0.000000              0.000000   \n",
       "25%                       2.100000              1.925000   \n",
       "50%                       3.000000              7.750000   \n",
       "75%                       3.600000              9.450000   \n",
       "max                       9.100000             16.400000   \n",
       "\n",
       "       less_than_high_school_graduate  some_college_or_associate_s_degree  \n",
       "count                        32.00000                           32.000000  \n",
       "mean                         17.80000                            5.946875  \n",
       "std                          19.29944                            4.728430  \n",
       "min                           0.00000                            0.000000  \n",
       "25%                           6.82500                            2.525000  \n",
       "50%                          13.90000                            5.500000  \n",
       "75%                          20.97500                            8.800000  \n",
       "max                         100.00000                           18.500000  "
      ]
     },
     "execution_count": 14,
     "metadata": {},
     "output_type": "execute_result"
    }
   ],
   "source": [
    "df.describe()"
   ]
  },
  {
   "cell_type": "code",
   "execution_count": 16,
   "metadata": {},
   "outputs": [
    {
     "name": "stdout",
     "output_type": "stream",
     "text": [
      "bachelor_s_degree_or_higher           float64\n",
      "geography                              object\n",
      "geography_type                         object\n",
      "high_school_graduate                  float64\n",
      "less_than_high_school_graduate        float64\n",
      "location_1                             object\n",
      "some_college_or_associate_s_degree    float64\n",
      "year                                   object\n",
      "dtype: object\n"
     ]
    }
   ],
   "source": [
    "print(df.dtypes)"
   ]
  },
  {
   "cell_type": "code",
   "execution_count": 53,
   "metadata": {},
   "outputs": [
    {
     "data": {
      "image/png": "[encoded data removed]",
      "text/plain": [
       "<Figure size 432x288 with 1 Axes>"
      ]
     },
     "metadata": {
      "needs_background": "light"
     },
     "output_type": "display_data"
    }
   ],
   "source": [
    "import numpy as np\n",
    "import matplotlib.pyplot as plt\n",
    " \n",
    "f = 3\n",
    "A = 1\n",
    "t = np.linspace(0, 1, 256)\n",
    "sygnal = A*np.sin(2*np.pi*f*t)\n",
    " \n",
    "plt.plot(t, sygnal)\n",
    "plt.show()"
   ]
  },
  {
   "cell_type": "code",
   "execution_count": null,
   "metadata": {},
   "outputs": [],
   "source": []
  },
  {
   "cell_type": "code",
   "execution_count": null,
   "metadata": {},
   "outputs": [],
   "source": []
  },
  {
   "cell_type": "code",
   "execution_count": null,
   "metadata": {},
   "outputs": [],
   "source": []
  },
  {
   "cell_type": "code",
   "execution_count": null,
   "metadata": {},
   "outputs": [],
   "source": []
  },
  {
   "cell_type": "code",
   "execution_count": null,
   "metadata": {
    "scrolled": true
   },
   "outputs": [],
   "source": []
  },
  {
   "cell_type": "code",
   "execution_count": null,
   "metadata": {},
   "outputs": [],
   "source": []
  },
  {
   "cell_type": "code",
   "execution_count": null,
   "metadata": {},
   "outputs": [],
   "source": []
  }
 ],
 "metadata": {
  "kernelspec": {
   "display_name": "Python 3",
   "language": "python",
   "name": "python3"
  },
  "language_info": {
   "codemirror_mode": {
    "name": "ipython",
    "version": 3
   },
   "file_extension": ".py",
   "mimetype": "text/x-python",
   "name": "python",
   "nbconvert_exporter": "python",
   "pygments_lexer": "ipython3",
   "version": "3.6.7"
  }
 },
 "nbformat": 4,
 "nbformat_minor": 2
}
